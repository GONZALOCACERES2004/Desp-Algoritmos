{
  "cells": [
    {
      "cell_type": "markdown",
      "metadata": {},
      "source": [
        "# Práctica Final: Clasificación con Scikit-learn y MLflow\n",
        "\n",
        "En esta práctica, utilizarás un conjunto de datos de Scikit-learn (podeís usar el mismo que en el notebook de Intro MLFlow) para entrenar un modelo de clasificación.\n",
        "\n",
        "Pasos a seguir: \n",
        "\n",
        "    Exploración de Datos: Analiza el conjunto de datos proporcionado para comprender su estructura y contenido.\n",
        "\n",
        "    Preprocesamiento de Texto: Realiza tareas de preprocesamiento de texto, como tokenización y vectorización, para preparar los datos para el modelado.\n",
        "\n",
        "    Entrenamiento del Modelo: Utiliza algoritmos de clasificación de Scikit-learn para entrenar un modelo con los datos preprocesados.\n",
        "\n",
        "    Evaluación del Modelo: Evalúa el rendimiento del modelo utilizando métricas de evaluación estándar como precisión y recall.\n",
        "\n",
        "    Registro de Métricas con MLflow: Utiliza MLflow para registrar métricas y hiperparámetros durante el entrenamiento, facilitando la gestión y comparación de experimentos.\n",
        "\n",
        "\n",
        "Nota: Dado que no voy a poder tener acceso a vuestros logs de MLFlow añadirme las imagenes de la interfaz de MLFlow en el notebook"
      ]
    },
    {
      "cell_type": "markdown",
      "metadata": {},
      "source": [
        "## EXPLORACION DE DATOS"
      ]
    },
    {
      "cell_type": "markdown",
      "metadata": {},
      "source": [
        "Debido a limitaciones de tiempo y recursos computacionales, nos vimos en la necesidad de trabajar con una muestra representativa de las reseñas disponibles del archivo original 'Books.jsonl.gz'. En este proceso, nos enfocamos principalmente en seleccionar reseñas con sentimientos claramente positivos o negativos, excluyendo aquellas de carácter neutral. Esta estrategia nos permite optimizar el análisis y concentrarnos en los casos más relevantes para nuestro estudio de polaridad de opiniones."
      ]
    },
    {
      "cell_type": "code",
      "execution_count": 5,
      "metadata": {},
      "outputs": [
        {
          "name": "stdout",
          "output_type": "stream",
          "text": [
            "                                                text  rating\n",
            "0  This is a very warped story about the author/B...       1\n",
            "1  Grandma bought this book at a brick and mortar...       1\n",
            "2  worst woods book i've read. and i have read th...       1\n",
            "3  Boring and flat.  Couldn't wait to finish it t...       1\n",
            "4  Don't waste your money on this deeply unhelpfu...       1\n",
            "<class 'pandas.core.frame.DataFrame'>\n",
            "RangeIndex: 8000 entries, 0 to 7999\n",
            "Data columns (total 2 columns):\n",
            " #   Column  Non-Null Count  Dtype \n",
            "---  ------  --------------  ----- \n",
            " 0   text    8000 non-null   object\n",
            " 1   rating  8000 non-null   int64 \n",
            "dtypes: int64(1), object(1)\n",
            "memory usage: 125.1+ KB\n",
            "None\n",
            "            rating\n",
            "count  8000.000000\n",
            "mean      3.000000\n",
            "std       1.581238\n",
            "min       1.000000\n",
            "25%       1.750000\n",
            "50%       3.000000\n",
            "75%       4.250000\n",
            "max       5.000000\n",
            "Número total de reseñas: 8000\n",
            "Valores nulos\n",
            "text      0\n",
            "rating    0\n",
            "dtype: int64\n",
            "Cardinalidad del vocabulario: 35604\n"
          ]
        },
        {
          "data": {
            "image/png": "[encoded data removed]",
            "text/plain": [
              "<Figure size 1000x600 with 1 Axes>"
            ]
          },
          "metadata": {},
          "output_type": "display_data"
        },
        {
          "name": "stdout",
          "output_type": "stream",
          "text": [
            "Número de reviews positivas: 4000\n",
            "Número de reviews negativas: 4000\n",
            "Unigrams más frecuentes:\n",
            "br: 21234\n",
            "book: 12440\n",
            "read: 4036\n",
            "like: 3695\n",
            "story: 3428\n",
            "just: 3357\n",
            "good: 2339\n",
            "really: 2267\n",
            "books: 2118\n",
            "34: 2063\n",
            "\n",
            "Bigrams más frecuentes:\n",
            "br br: 9137\n",
            "br book: 572\n",
            "year old: 378\n",
            "read book: 356\n",
            "book br: 349\n",
            "main character: 242\n",
            "ve read: 224\n",
            "don know: 198\n",
            "like book: 194\n",
            "reading book: 185\n"
          ]
        }
      ],
      "source": [
        "import pandas as pd\n",
        "import matplotlib.pyplot as plt\n",
        "from sklearn.feature_extraction.text import CountVectorizer\n",
        "import numpy as np\n",
        "\n",
        "\n",
        "#Cargamos el subset\n",
        "df_subset = pd.read_csv('datos_extraidos.csv')\n",
        "\n",
        "# Verificar las primeras filas del DataFrame\n",
        "print(df_subset.head())\n",
        "\n",
        "# Información general sobre el DataFrame\n",
        "print(df_subset.info())\n",
        "\n",
        "# Estadísticas descriptivas básicas\n",
        "print(df_subset.describe())\n",
        "# Contar el número total de reseñas en el subconjunto\n",
        "print(f\"Número total de reseñas: {len(df_subset)}\")\n",
        "\n",
        "# Verificar si hay valores nulos\n",
        "print('Valores nulos')\n",
        "print(df_subset.isnull().sum())\n",
        "\n",
        "# 1. Cardinalidad del vocabulario\n",
        "vectorizer = CountVectorizer()\n",
        "vectorizer.fit(df_subset['text'])\n",
        "vocab_cardinality = len(vectorizer.get_feature_names_out())\n",
        "print(f'Cardinalidad del vocabulario: {vocab_cardinality}')\n",
        "\n",
        "# 2. Distribución de reviews por número de estrellas\n",
        "plt.figure(figsize=(10, 6))\n",
        "df_subset['rating'].value_counts().sort_index().plot(kind='bar')\n",
        "plt.title('Distribución de Reviews por Número de Estrellas')\n",
        "plt.xlabel('Número de Estrellas')\n",
        "plt.ylabel('Número de Reviews')\n",
        "plt.show()\n",
        "\n",
        "# 3. Número de reviews positivas y negativas\n",
        "positive_reviews = df_subset[df_subset['rating'] >= 4].shape[0]\n",
        "negative_reviews = df_subset[df_subset['rating'] <= 2].shape[0]\n",
        "\n",
        "print(f'Número de reviews positivas: {positive_reviews}')\n",
        "print(f'Número de reviews negativas: {negative_reviews}')\n",
        "\n",
        "# Unigrams más frecuentes\n",
        "unigram_vectorizer = CountVectorizer(stop_words='english')\n",
        "unigrams = unigram_vectorizer.fit_transform(df_subset['text'])\n",
        "unigram_counts = unigrams.sum(axis=0).A1\n",
        "unigram_freq = [(word, unigram_counts[i]) for word, i in unigram_vectorizer.vocabulary_.items()]\n",
        "unigram_freq_sorted = sorted(unigram_freq, key=lambda x: x[1], reverse=True)\n",
        "\n",
        "print(\"Unigrams más frecuentes:\")\n",
        "for unigram, count in unigram_freq_sorted[:10]:\n",
        "    print(f'{unigram}: {count}')\n",
        "\n",
        "# Bigrams más frecuentes\n",
        "bigram_vectorizer = CountVectorizer(ngram_range=(2, 2), stop_words='english')\n",
        "bigrams = bigram_vectorizer.fit_transform(df_subset['text'])\n",
        "bigram_counts = bigrams.sum(axis=0).A1\n",
        "bigram_freq = [(word, bigram_counts[i]) for word, i in bigram_vectorizer.vocabulary_.items()]\n",
        "bigram_freq_sorted = sorted(bigram_freq, key=lambda x: x[1], reverse=True)\n",
        "\n",
        "print(\"\\nBigrams más frecuentes:\")\n",
        "for bigram, count in bigram_freq_sorted[:10]:\n",
        "    print(f'{bigram}: {count}')\n"
      ]
    },
    {
      "cell_type": "markdown",
      "metadata": {},
      "source": [
        "La palabra \"br\" aparece con alta frecuencia, indicando que hay elementos HTML no limpiados en los datos.Entre los unigrams, términos como \"book\", \"read\", \"like\", \"story\" y \"good\" destacan, lo que sugiere una alta relevancia del tema central, reflejando opiniones sobre la experiencia de lectura. En cuanto a los bigrams, \"br br\" es el más común, seguido de combinaciones significativas como \"year old\" y \"read book\", que indican temas recurrentes en las reseñas. Esto sugiere que es necesario realizar una limpieza adicional de datos para mejorar el análisis\n",
        "\n",
        "Con base en estos hallazgos, debemos proceder con un preprocesamiento exhaustivo del texto para limpiar los datos y preparar un conjunto adecuado para el modelado de análisis de sentimientos. Esto incluirá la eliminación de stopwords, la lematización y la tokenización, lo cual permitirá obtener representaciones más precisas del contenido textual."
      ]
    },
    {
      "cell_type": "markdown",
      "metadata": {},
      "source": [
        "## PREPROCESAMIENTO"
      ]
    },
    {
      "cell_type": "code",
      "execution_count": 10,
      "metadata": {},
      "outputs": [],
      "source": [
        "#!pip install nltk"
      ]
    },
    {
      "cell_type": "code",
      "execution_count": 2,
      "metadata": {},
      "outputs": [],
      "source": [
        "import re\n",
        "import nltk\n",
        "from nltk.corpus import stopwords\n",
        "from nltk.tokenize import word_tokenize\n",
        "from nltk.stem import WordNetLemmatizer\n",
        "\n",
        "# Descargar recursos necesarios de NLTK\n",
        "nltk.download('all')"
      ]
    },
    {
      "cell_type": "code",
      "execution_count": 9,
      "metadata": {},
      "outputs": [
        {
          "name": "stdout",
          "output_type": "stream",
          "text": [
            "                                                text  \\\n",
            "0  This is a very warped story about the author/B...   \n",
            "1  Grandma bought this book at a brick and mortar...   \n",
            "2  worst woods book i've read. and i have read th...   \n",
            "3  Boring and flat.  Couldn't wait to finish it t...   \n",
            "4  Don't waste your money on this deeply unhelpfu...   \n",
            "\n",
            "                                      processed_text  \n",
            "0  warped story author brenner sex dolphin yes do...  \n",
            "1  grandma bought book brick mortar store feel li...  \n",
            "2  worst wood book read read believe stuart wood ...  \n",
            "3       boring flat wait finish start something else  \n",
            "4  waste money deeply unhelpful book unless tryin...  \n"
          ]
        }
      ],
      "source": [
        "def preprocess_text(text):\n",
        "    \"\"\"\n",
        "    Función principal que realiza todo el preprocesamiento del texto.\n",
        "    \"\"\"\n",
        "    text = remove_html(text)\n",
        "    text = convert_to_lowercase(text)\n",
        "    text = expand_contractions(text)  # Manejo de contracciones\n",
        "    text = remove_special_characters(text)\n",
        "    tokens = tokenize_text(text)\n",
        "    tokens = remove_stopwords(tokens)\n",
        "    tokens = lemmatize_words(tokens)\n",
        "    processed_text = ' '.join(tokens)\n",
        "    return processed_text\n",
        "\n",
        "def remove_html(text):\n",
        "    \"\"\"Elimina etiquetas HTML y separa palabras concatenadas.\"\"\"\n",
        "    # Eliminar etiquetas HTML y reemplazar por espacio\n",
        "    text = re.sub(r'<.*?>', ' ', text)\n",
        "    # Reemplazar caracteres no alfabéticos por espacio\n",
        "    text = re.sub(r'[^a-zA-Z\\s]', ' ', text)\n",
        "    # Reemplazar múltiples espacios en blanco por uno solo\n",
        "    text = re.sub(r'\\s+', ' ', text).strip()\n",
        "    return text\n",
        "\n",
        "def convert_to_lowercase(text):\n",
        "    \"\"\"Convierte el texto a minúsculas.\"\"\"\n",
        "    return text.lower()\n",
        "\n",
        "def expand_contractions(text):\n",
        "    \"\"\"Expande contracciones comunes.\"\"\"\n",
        "    contractions_dict = {\n",
        "        \"don't\": \"do not\",\n",
        "        \"can't\": \"cannot\",\n",
        "        \"I've\": \"I have\",\n",
        "        \"you're\": \"you are\",\n",
        "        \"he's\": \"he is\",\n",
        "        \"she's\": \"she is\",\n",
        "        \"it's\": \"it is\",\n",
        "        \"we're\": \"we are\",\n",
        "        \"they're\": \"they are\",\n",
        "        \"wasn't\": \"was not\",\n",
        "        \"weren't\": \"were not\",\n",
        "        \"isn't\": \"is not\",\n",
        "        \"aren't\": \"are not\",\n",
        "        \"i'm\": \"I am\",\n",
        "        \"let's\": \"let us\",\n",
        "        \"that's\": \"that is\",\n",
        "\n",
        "    }\n",
        "\n",
        "    # Reemplazar contracciones en el texto\n",
        "    for contraction, expanded in contractions_dict.items():\n",
        "        text = re.sub(r'\\b' + contraction + r'\\b', expanded, text, flags=re.IGNORECASE)\n",
        "\n",
        "    return text\n",
        "\n",
        "def remove_special_characters(text):\n",
        "    \"\"\"Elimina caracteres especiales y números.\"\"\"\n",
        "    return re.sub(r'[^a-zA-Z\\s]', '', text)\n",
        "\n",
        "def tokenize_text(text):\n",
        "    \"\"\"Tokeniza el texto.\"\"\"\n",
        "    return word_tokenize(text)\n",
        "\n",
        "def remove_stopwords(tokens):\n",
        "    \"\"\"Elimina stopwords.\"\"\"\n",
        "    stop_words = set(stopwords.words('english'))\n",
        "    return [word for word in tokens if word not in stop_words]\n",
        "\n",
        "def lemmatize_words(tokens):\n",
        "    \"\"\"Lematiza las palabras.\"\"\"\n",
        "    lemmatizer = WordNetLemmatizer()\n",
        "    return [lemmatizer.lemmatize(word) for word in tokens]\n",
        "\n",
        "# Aplicar el preprocesamiento a la columna de texto\n",
        "df_subset['processed_text'] = df_subset['text'].apply(preprocess_text)\n",
        "\n",
        "# Verificar los resultados\n",
        "print(df_subset[['text', 'processed_text']].head())\n",
        "\n",
        "df_subset = df_subset[df_subset['processed_text'] != '']"
      ]
    },
    {
      "cell_type": "markdown",
      "metadata": {},
      "source": [
        "El preprocesamiento ha sido exitoso, resultando en una columna 'processed_text' que refleja una limpieza efectiva del contenido original. Las etiquetas HTML han sido eliminadas y el texto ha sido convertido a minúsculas, facilitando su análisis. Además, se han expandido las contracciones comunes, lo que mejora la comprensión. Se han eliminado las stopwords, permitiendo que el análisis se enfoque en términos más significativos. La lematización ha reducido palabras como \"woods\" a \"wood\", ayudando a agrupar términos relacionados. En general, el preprocesamiento proporciona una base sólida para el análisis de sentimiento y modelización, aunque se recomienda revisar la lista de stopwords y considerar ajustes adicionales para mejorar la calidad del texto procesado."
      ]
    },
    {
      "cell_type": "code",
      "execution_count": null,
      "metadata": {},
      "outputs": [],
      "source": [
        "# Guardar como CSV \n",
        "df_subset.to_csv('datos_procesados.csv', index=False)"
      ]
    },
    {
      "cell_type": "markdown",
      "metadata": {},
      "source": [
        "## ENTRENAMIENTO - EVALUACION - REGISTRO DE METRICAS"
      ]
    },
    {
      "cell_type": "code",
      "execution_count": 2,
      "metadata": {},
      "outputs": [
        {
          "name": "stdout",
          "output_type": "stream",
          "text": [
            "<Popen: returncode: None args: ['mlflow', 'ui', '--port', '8888']>\n"
          ]
        },
        {
          "name": "stderr",
          "output_type": "stream",
          "text": [
            "2024/12/14 00:25:02 WARNING mlflow.models.model: Model logged without a signature and input example. Please set `input_example` parameter when logging the model to auto infer the model signature.\n",
            "2024/12/14 00:25:07 WARNING mlflow.models.model: Model logged without a signature and input example. Please set `input_example` parameter when logging the model to auto infer the model signature.\n",
            "2024/12/14 00:25:11 WARNING mlflow.models.model: Model logged without a signature and input example. Please set `input_example` parameter when logging the model to auto infer the model signature.\n",
            "2024/12/14 00:25:16 WARNING mlflow.models.model: Model logged without a signature and input example. Please set `input_example` parameter when logging the model to auto infer the model signature.\n"
          ]
        },
        {
          "name": "stdout",
          "output_type": "stream",
          "text": [
            "Se ha acabado el entrenamiento de los modelos correctamente\n"
          ]
        }
      ],
      "source": [
        "import argparse\n",
        "import subprocess\n",
        "import time\n",
        "import mlflow\n",
        "import pandas as pd\n",
        "from sklearn.model_selection import train_test_split\n",
        "from sklearn.feature_extraction.text import TfidfVectorizer\n",
        "from sklearn.linear_model import LogisticRegression\n",
        "from sklearn.metrics import classification_report, confusion_matrix\n",
        "\n",
        "\n",
        "df = pd.read_csv('datos_procesados.csv')\n",
        "df['label'] = (df['rating'] >= 4).astype(int) \n",
        "\n",
        "X = df['processed_text']\n",
        "y = df['label']\n",
        "X_train, X_test, y_train, y_test = train_test_split(X, y, test_size=0.2, random_state=42, stratify=y)\n",
        "\n",
        "max_features=8000\n",
        "vectorizer = TfidfVectorizer(max_features=max_features)\n",
        "X_train_vectorized = vectorizer.fit_transform(X_train)\n",
        "X_test_vectorized = vectorizer.transform(X_test)\n",
        "    \n",
        "\n",
        "mlflow_ui_process = subprocess.Popen(['mlflow', 'ui', '--port', '8888'])\n",
        "print(mlflow_ui_process)\n",
        "time.sleep(5)\n",
        "mlflow.set_experiment('Analisis_Sentimientos')\n",
        "\n",
        "max_iter = 1000\n",
        "C_values = [0.1,1.0,5.0,10.0]   \n",
        "for C in C_values:\n",
        "    with mlflow.start_run(run_name=f\"LogisticRegression_C_{C}_MaxIter_{max_iter}\"):\n",
        "        model = LogisticRegression(C=C, max_iter=max_iter, random_state=42)\n",
        "        model.fit(X_train_vectorized, y_train)            \n",
        "\n",
        "        # Calcular accuracy de entrenamiento y prueba\n",
        "        train_accuracy = model.score(X_train_vectorized, y_train)\n",
        "        test_accuracy = model.score(X_test_vectorized, y_test)\n",
        "\n",
        "        # Evaluar el modelo\n",
        "        y_pred = model.predict(X_test_vectorized)\n",
        "        classification_rep_text = classification_report(y_test, y_pred)  # Generar el reporte en formato de texto\n",
        "        conf_matrix = confusion_matrix(y_test, y_pred)\n",
        "        \n",
        "            \n",
        "        # Logging de métricas y parámetros\n",
        "        mlflow.log_param(\"C\", C)\n",
        "        mlflow.log_param(\"max_iter\", max_iter)\n",
        "        mlflow.log_metric(\"train_accuracy\", train_accuracy)\n",
        "        mlflow.log_metric(\"test_accuracy\", test_accuracy)\n",
        "\n",
        "        # Guardar la matriz de confusión como artefacto\n",
        "        mlflow.log_text(str(conf_matrix), \"confusion_matrix.txt\")\n",
        "            \n",
        "        # Guardar el reporte de clasificación como artefacto en formato de texto\n",
        "        mlflow.log_text(classification_rep_text, \"classification_report.txt\")\n",
        "            \n",
        "        # Guardar el modelo\n",
        "        mlflow.sklearn.log_model(model, \"logistic_regression_model\")\n",
        "    \n",
        "print(\"Se ha acabado el entrenamiento de los modelos correctamente\")"
      ]
    },
    {
      "cell_type": "markdown",
      "metadata": {},
      "source": [
        "En este ejemplo se muestra classification report en formato txt"
      ]
    },
    {
      "cell_type": "markdown",
      "metadata": {},
      "source": [
        "![descripción de la imagen](1.png)"
      ]
    },
    {
      "cell_type": "markdown",
      "metadata": {},
      "source": [
        "![descripción de la imagen](2.png)"
      ]
    },
    {
      "cell_type": "markdown",
      "metadata": {},
      "source": [
        "![descripción de la imagen](3.png)"
      ]
    },
    {
      "cell_type": "markdown",
      "metadata": {},
      "source": [
        "![descripción de la imagen](4.png)"
      ]
    },
    {
      "cell_type": "markdown",
      "metadata": {},
      "source": [
        "### Generar .py de funciones y main con al menos dos argumentos de entrada.\n",
        "    Se muestra el codigo en celdas independientes y se adjuntan los archivos  util.py  y  main.py"
      ]
    },
    {
      "cell_type": "code",
      "execution_count": null,
      "metadata": {},
      "outputs": [],
      "source": [
        "%%writefile util.py\n",
        "\n",
        "import argparse\n",
        "import subprocess\n",
        "import time\n",
        "import mlflow\n",
        "import pandas as pd\n",
        "from sklearn.model_selection import train_test_split\n",
        "from sklearn.feature_extraction.text import TfidfVectorizer\n",
        "from sklearn.linear_model import LogisticRegression\n",
        "from sklearn.metrics import classification_report, confusion_matrix\n",
        "\n",
        "def argumentos():\n",
        "    parser = argparse.ArgumentParser(description='__main__ de la aplicación con argumentos de entrada.')\n",
        "    parser.add_argument('--nombre_job', type=str, help='Valor para el parámetro nombre_documento.')\n",
        "    parser.add_argument('--max_features', type=int, default=8000, help='Número máximo de características para TfidfVectorizer.')\n",
        "    parser.add_argument('--max_iter', type=int, default=1000, help='Número máximo de iteraciones para LogisticRegression.')\n",
        "    parser.add_argument('--C_values', nargs='+', type=float, default=[0.1, 1.0, 10.0], help='Valores de C para LogisticRegression.')\n",
        "    return parser.parse_args()\n",
        "\n",
        "def load_dataset():\n",
        "    df_subset = pd.read_csv('datos_procesados.csv')\n",
        "    df_subset['label'] = (df_subset['rating'] >= 4).astype(int)\n",
        "    return df_subset\n",
        "\n",
        "def data_treatment(df):\n",
        "    X = df['processed_text']\n",
        "    y = df['label']\n",
        "    X_train, X_test, y_train, y_test = train_test_split(X, y, test_size=0.2, random_state=42, stratify=y)\n",
        "        \n",
        "    return X_train, X_test, y_train, y_test\n",
        "\n",
        "def vectorize_text(X_train, X_test, max_features):\n",
        "    vectorizer = TfidfVectorizer(max_features=max_features)\n",
        "    X_train_vectorized = vectorizer.fit_transform(X_train)\n",
        "    X_test_vectorized = vectorizer.transform(X_test)\n",
        "    return X_train_vectorized, X_test_vectorized, vectorizer\n",
        "\n",
        "def evaluate_model(model, X_test, y_test):\n",
        "    y_pred = model.predict(X_test)\n",
        "    report = classification_report(y_test, y_pred)  # Generar el reporte en formato de texto\n",
        "    conf_matrix = confusion_matrix(y_test, y_pred)\n",
        "    return report, conf_matrix\n",
        "\n",
        "def mlflow_tracking(nombre_job, X_train, X_test, y_train, y_test, max_iter, C_values):\n",
        "    mlflow_ui_process = subprocess.Popen(['mlflow', 'ui', '--port', '8888'])\n",
        "    print(mlflow_ui_process)\n",
        "    time.sleep(5)\n",
        "    mlflow.set_experiment(nombre_job)\n",
        "    \n",
        "    for C in C_values:\n",
        "        with mlflow.start_run(run_name=f\"LogisticRegression_C_{C}_MaxIter_{max_iter}\"):\n",
        "            model = LogisticRegression(C=C, max_iter=max_iter, random_state=42)\n",
        "            model.fit(X_train, y_train)            \n",
        "\n",
        "            # Calcular accuracy de entrenamiento y prueba\n",
        "            train_accuracy = model.score(X_train, y_train)\n",
        "            test_accuracy = model.score(X_test, y_test)\n",
        "\n",
        "            # Evaluar el modelo\n",
        "            classification_rep_text, conf_matrix = evaluate_model(model, X_test, y_test)\n",
        "            \n",
        "            # Logging de métricas y parámetros\n",
        "            mlflow.log_param(\"C\", C)\n",
        "            mlflow.log_param(\"max_iter\", max_iter)\n",
        "            mlflow.log_metric(\"train_accuracy\", train_accuracy)\n",
        "            mlflow.log_metric(\"test_accuracy\", test_accuracy)\n",
        "\n",
        "            # Guardar la matriz de confusión como artefacto\n",
        "            mlflow.log_text(str(conf_matrix), \"confusion_matrix.txt\")\n",
        "            \n",
        "            # Guardar el reporte de clasificación como artefacto en formato de texto\n",
        "            mlflow.log_text(classification_rep_text, \"classification_report.txt\")\n",
        "            \n",
        "            # Guardar el modelo\n",
        "            mlflow.sklearn.log_model(model, \"logistic_regression_model\")\n",
        "    \n",
        "    print(\"Se ha acabado el entrenamiento de los modelos correctamente\")\n"
      ]
    },
    {
      "cell_type": "code",
      "execution_count": null,
      "metadata": {},
      "outputs": [],
      "source": [
        "%%writefile main.py\n",
        "\n",
        "from util import argumentos, load_dataset, data_treatment, vectorize_text, mlflow_tracking\n",
        "\n",
        "def main():\n",
        "    print(\"Ejecutamos el main\")\n",
        "    args_values = argumentos()\n",
        "    df = load_dataset()\n",
        "    X_train, X_test, y_train, y_test = data_treatment(df)\n",
        "    X_train_vectorized, X_test_vectorized, vectorizer = vectorize_text(X_train, X_test, args_values.max_features)\n",
        "    mlflow_tracking(args_values.nombre_job, X_train_vectorized, X_test_vectorized, y_train, y_test, args_values.max_iter, args_values.C_values)\n",
        "\n",
        "if __name__ == \"__main__\":\n",
        "    main()"
      ]
    },
    {
      "cell_type": "markdown",
      "metadata": {},
      "source": [
        "En este ejemplo se muestran f1-score, prescision y recall en las métricas"
      ]
    },
    {
      "cell_type": "markdown",
      "metadata": {},
      "source": [
        "![descripción de la imagen](5.png)"
      ]
    },
    {
      "cell_type": "markdown",
      "metadata": {},
      "source": [
        "![descripción de la imagen](6.png)"
      ]
    },
    {
      "cell_type": "markdown",
      "metadata": {},
      "source": [
        "![descripción de la imagen](7.png)"
      ]
    },
    {
      "cell_type": "markdown",
      "metadata": {},
      "source": [
        "![descripción de la imagen](8.png)"
      ]
    },
    {
      "cell_type": "markdown",
      "metadata": {},
      "source": [
        "Basándonos en estos resultados, podemos concluir lo siguiente:\n",
        "1.\tRendimiento general:\n",
        "•\tTodos los modelos tienen un rendimiento relativamente bueno, con precisión de prueba (test_accuracy) entre 0.83 y 0.848.\n",
        "•\tEl mejor rendimiento en el conjunto de prueba se obtiene con C=1.0, logrando una precisión de 0.848.\n",
        "2.\tRegularización y generalización:\n",
        "•\tA medida que C disminuye (de 10.0 a 0.1), la regularización aumenta.\n",
        "•\tObservamos que el modelo con C=1.0 logra el mejor equilibrio entre rendimiento en entrenamiento y prueba.\n",
        "3.\tSobreajuste:\n",
        "•\tHay evidencia de sobreajuste, especialmente en los modelos con C más alto.\n",
        "•\tPara C=10.0, la precisión de entrenamiento es 0.978, mientras que la de prueba es solo 0.835, indicando un sobreajuste significativo.\n",
        "•\tEl sobreajuste disminuye a medida que C disminuye, con la brecha más pequeña entre train_accuracy y test_accuracy en C=0.1.\n",
        "4.\tMejor modelo:\n",
        "•\tEl modelo con C=1.0 parece ser el mejor, con la precisión de prueba más alta (0.848) y un buen equilibrio entre rendimiento en entrenamiento (0.925) y prueba.\n",
        "5.\tConsistencia de métricas:\n",
        "•\tPara cada modelo, las métricas de accuracy, f1-score, precision y recall son idénticas, lo que sugiere un rendimiento equilibrado en todas las clases.\n",
        "6.\tMatrices de confusión:\n",
        "•\tLas matrices de confusión muestran un rendimiento bastante equilibrado entre verdaderos positivos y verdaderos negativos.\n",
        "•\tEl modelo con C=1.0 tiene la mejor matriz de confusión, con 674 y 681 predicciones correctas.\n",
        "\n",
        "En resumen, el modelo con C=1.0 ofrece el mejor rendimiento general, con un buen equilibrio entre ajuste a los datos de entrenamiento y generalización a los datos de prueba. Sin embargo, todos los modelos muestran cierto grado de sobreajuste, lo que podría abordarse con técnicas adicionales de regularización o ajuste de hiperparámetros.\n"
      ]
    },
    {
      "cell_type": "markdown",
      "metadata": {},
      "source": [
        "## Práctica parte FastAPI"
      ]
    },
    {
      "cell_type": "markdown",
      "metadata": {},
      "source": [
        "### Para esta parte de la práctica teneis que generar un script con al menos 5 modulos app.get y dos de ellos tienen que ser pipelines de HF. \n",
        "\n",
        "### Parte de la practica se tendra que entregar en capturas de pantalla. Las capturas de pantalla a adjuntas son las siguientes. \n",
        "\n",
        "### 1. Captura de la pantalla docs con al menos 5 modulos.\n",
        "     Se adjunta archivo FASTAPI"
      ]
    },
    {
      "cell_type": "markdown",
      "metadata": {},
      "source": [
        "![descripción de la imagen](0.jpg)"
      ]
    },
    {
      "cell_type": "markdown",
      "metadata": {},
      "source": [
        "### 2. Captura de cada una de los modulos con la respuesta dentro de docs.\n",
        "     Se adjunta archivo PRUEBAS FASTAPI"
      ]
    },
    {
      "cell_type": "markdown",
      "metadata": {},
      "source": [
        "![descripción de la imagen](1.jpg)"
      ]
    },
    {
      "cell_type": "markdown",
      "metadata": {},
      "source": [
        "![descripción de la imagen](2.jpg)"
      ]
    },
    {
      "cell_type": "markdown",
      "metadata": {},
      "source": [
        "![descripción de la imagen](3.jpg)"
      ]
    },
    {
      "cell_type": "markdown",
      "metadata": {},
      "source": [
        "![descripción de la imagen](4.jpg)"
      ]
    },
    {
      "cell_type": "markdown",
      "metadata": {},
      "source": [
        "![descripción de la imagen](5.jpg)"
      ]
    },
    {
      "cell_type": "markdown",
      "metadata": {},
      "source": [
        "![descripción de la imagen](6.jpg)"
      ]
    },
    {
      "cell_type": "markdown",
      "metadata": {},
      "source": [
        "![descripción de la imagen](7.jpg)"
      ]
    },
    {
      "cell_type": "markdown",
      "metadata": {},
      "source": [
        "![descripción de la imagen](8.jpg)"
      ]
    },
    {
      "cell_type": "markdown",
      "metadata": {},
      "source": [
        "![descripción de la imagen](9.jpg)"
      ]
    },
    {
      "cell_type": "markdown",
      "metadata": {},
      "source": [
        "![descripción de la imagen](10.jpg)"
      ]
    },
    {
      "cell_type": "markdown",
      "metadata": {},
      "source": [
        "### 3. Captura de cada uno de los modulos en la llamada https.\n",
        "     Se ejecuta cada llamada en una celda independiente\n",
        "\n",
        "### 4. Todo el codigo usado durante el proceso. Notebooks y scripts.\n",
        "     Se muestra el codigo en celdas independientes y se adjunta archivo app_fastapi.py"
      ]
    },
    {
      "cell_type": "code",
      "execution_count": null,
      "metadata": {},
      "outputs": [],
      "source": [
        "%%writefile app_fastapi.py\n",
        "from fastapi import FastAPI, Query\n",
        "from pydantic import BaseModel\n",
        "from transformers import pipeline\n",
        "import random\n",
        "\n",
        "app = FastAPI()\n",
        "\n",
        "# Cargar los pipelines de Hugging Face\n",
        "text_classification_pipeline = pipeline(\"text-classification\", model=\"distilbert-base-uncased-finetuned-sst-2-english\")\n",
        "text_generation_pipeline = pipeline(\"text-generation\", model=\"gpt2\")\n",
        "\n",
        "# Definir modelos de entrada\n",
        "class TextRequest(BaseModel):\n",
        "    text: str\n",
        "\n",
        "class GenerateRequest(BaseModel):\n",
        "    prompt: str\n",
        "\n",
        "@app.get(\"/\")\n",
        "def read_root():\n",
        "    \"\"\"\n",
        "    Endpoint de bienvenida.\n",
        "    \"\"\"\n",
        "    return {\"message\": \"Bienvenido a pruebas API\"}\n",
        "\n",
        "@app.post(\"/classify\")\n",
        "def classify_text(request: TextRequest):\n",
        "    \"\"\"\n",
        "    Clasifica el texto proporcionado usando un modelo de Hugging Face.\n",
        "    \"\"\"\n",
        "    result = text_classification_pipeline(request.text)\n",
        "    return result\n",
        "\n",
        "@app.post(\"/generate\")\n",
        "def generate_text(request: GenerateRequest):\n",
        "    \"\"\"\n",
        "    Genera texto basado en el prompt proporcionado usando un modelo de Hugging Face.\n",
        "    \"\"\"\n",
        "    result = text_generation_pipeline(request.prompt, max_length=50)\n",
        "    return result\n",
        "\n",
        "@app.get(\"/random_number\")\n",
        "def get_random_number():\n",
        "    \"\"\"\n",
        "    Genera un número aleatorio entre 1 y 100.\n",
        "    \"\"\"\n",
        "    return {\"random_number\": random.randint(1, 100)}\n",
        "\n",
        "@app.get(\"/multiply\")\n",
        "def multiply(a: float = Query(..., description=\"First number to multiply\"),\n",
        "             b: float = Query(..., description=\"Second number to multiply\")):\n",
        "    \"\"\"\n",
        "    Multiplica dos números y devuelve el resultado.\n",
        "    \"\"\"\n",
        "    result = a * b\n",
        "    return {\"result\": result, \"operation\": f\"{a} * {b} = {result}\"}\n",
        "\n",
        "@app.get(\"/fibonacci\")\n",
        "def fibonacci(n: int = Query(..., description=\"Number of Fibonacci sequence elements to generate\", ge=1, le=100)):\n",
        "    \"\"\"\n",
        "    Genera una secuencia de Fibonacci con n elementos.\n",
        "    \"\"\"\n",
        "    fib = [0, 1]\n",
        "    while len(fib) < n:\n",
        "        fib.append(fib[-1] + fib[-2])\n",
        "    return {\"fibonacci_sequence\": fib[:n]}"
      ]
    },
    {
      "cell_type": "code",
      "execution_count": 1,
      "metadata": {},
      "outputs": [],
      "source": [
        "import requests\n",
        "\n",
        "base_url = \"http://127.0.0.1:8080\"  "
      ]
    },
    {
      "cell_type": "code",
      "execution_count": 11,
      "metadata": {},
      "outputs": [
        {
          "name": "stdout",
          "output_type": "stream",
          "text": [
            "Clasificación: [{'label': 'POSITIVE', 'score': 0.9998756647109985}]\n"
          ]
        }
      ],
      "source": [
        "# Endpoint de clasificación\n",
        "text_to_classify = {\"text\": \"This is a great product!\"}\n",
        "response = requests.post(f\"{base_url}/classify\", json=text_to_classify)\n",
        "print(\"Clasificación:\", response.json())"
      ]
    },
    {
      "cell_type": "code",
      "execution_count": 3,
      "metadata": {},
      "outputs": [
        {
          "name": "stdout",
          "output_type": "stream",
          "text": [
            "Generación de texto: [{'generated_text': 'Once upon a time in the early 21st century men had a sense of belonging and a sense of what might go wrong. At some point, we must have realized that there was no substitute for a healthy sense of self-worth. By the time'}]\n"
          ]
        }
      ],
      "source": [
        "# Endpoint de generación de texto\n",
        "prompt = {\"prompt\": \"Once upon a time\"}\n",
        "response = requests.post(f\"{base_url}/generate\", json=prompt)\n",
        "print(\"Generación de texto:\", response.json())"
      ]
    },
    {
      "cell_type": "code",
      "execution_count": 4,
      "metadata": {},
      "outputs": [
        {
          "name": "stdout",
          "output_type": "stream",
          "text": [
            "Número aleatorio: {'random_number': 48}\n"
          ]
        }
      ],
      "source": [
        "# Endpoint de número aleatorio\n",
        "response = requests.get(f\"{base_url}/random_number\")\n",
        "print(\"Número aleatorio:\", response.json())"
      ]
    },
    {
      "cell_type": "code",
      "execution_count": 5,
      "metadata": {},
      "outputs": [
        {
          "name": "stdout",
          "output_type": "stream",
          "text": [
            "Multiplicación: {'result': 15.0, 'operation': '5.0 * 3.0 = 15.0'}\n"
          ]
        }
      ],
      "source": [
        "# Endpoint de multiplicación\n",
        "response = requests.get(f\"{base_url}/multiply?a=5&b=3\")\n",
        "print(\"Multiplicación:\", response.json())"
      ]
    },
    {
      "cell_type": "code",
      "execution_count": 6,
      "metadata": {},
      "outputs": [
        {
          "name": "stdout",
          "output_type": "stream",
          "text": [
            "Fibonacci: {'fibonacci_sequence': [0, 1, 1, 2, 3, 5, 8, 13, 21, 34]}\n"
          ]
        }
      ],
      "source": [
        "# Endpoint de Fibonacci\n",
        "response = requests.get(f\"{base_url}/fibonacci?n=10\")\n",
        "print(\"Fibonacci:\", response.json())"
      ]
    }
  ],
  "metadata": {
    "accelerator": "GPU",
    "colab": {
      "provenance": []
    },
    "kernelspec": {
      "display_name": "ia2-despliegue-algo",
      "language": "python",
      "name": "python3"
    },
    "language_info": {
      "codemirror_mode": {
        "name": "ipython",
        "version": 3
      },
      "file_extension": ".py",
      "mimetype": "text/x-python",
      "name": "python",
      "nbconvert_exporter": "python",
      "pygments_lexer": "ipython3",
      "version": "3.11.0"
    }
  },
  "nbformat": 4,
  "nbformat_minor": 0
}
